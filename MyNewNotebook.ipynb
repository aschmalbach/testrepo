{
 "cells": [
  {
   "cell_type": "code",
   "execution_count": null,
   "id": "7add115c-0681-486d-aab5-750c8198cc33",
   "metadata": {},
   "outputs": [],
   "source": []
  },
  {
   "cell_type": "markdown",
   "id": "5e947bab-edae-4b9f-ac21-918f86b09bb1",
   "metadata": {},
   "source": [
    "Jupyter Notebook "
   ]
  },
  {
   "cell_type": "markdown",
   "id": "d83a7bb4-29e8-4494-88f9-3993edcc9d4e",
   "metadata": {},
   "source": [
    "This notebook belongs to Andrés Schmalbach Ávila"
   ]
  },
  {
   "cell_type": "code",
   "execution_count": 20,
   "id": "d5729886-94b6-41c2-9147-61ef21720e72",
   "metadata": {},
   "outputs": [
    {
     "data": {
      "text/plain": [
       "2"
      ]
     },
     "execution_count": 20,
     "metadata": {},
     "output_type": "execute_result"
    }
   ],
   "source": [
    "1 + 1\n",
    "##Maths example on Python"
   ]
  },
  {
   "cell_type": "code",
   "execution_count": 2,
   "id": "15db50fa-8c28-472e-920c-498c1d2b5af1",
   "metadata": {},
   "outputs": [
    {
     "data": {
      "text/plain": [
       "3.4285714285714284"
      ]
     },
     "execution_count": 2,
     "metadata": {},
     "output_type": "execute_result"
    }
   ],
   "source": [
    "24/7"
   ]
  },
  {
   "cell_type": "code",
   "execution_count": 7,
   "id": "f5336288-6bda-4ec9-a95f-3635f57b220c",
   "metadata": {},
   "outputs": [
    {
     "data": {
      "text/plain": [
       "42"
      ]
     },
     "execution_count": 7,
     "metadata": {},
     "output_type": "execute_result"
    }
   ],
   "source": [
    "6*7"
   ]
  },
  {
   "cell_type": "code",
   "execution_count": 11,
   "id": "51d3167c-7bb2-46c9-8862-27db0b3688ac",
   "metadata": {},
   "outputs": [
    {
     "data": {
      "text/plain": [
       "9.32142857142857"
      ]
     },
     "execution_count": 11,
     "metadata": {},
     "output_type": "execute_result"
    }
   ],
   "source": [
    "6*7*(8/98*(87/32))"
   ]
  },
  {
   "cell_type": "markdown",
   "id": "1bdde963-844b-4689-ade0-807b8c8421c7",
   "metadata": {},
   "source": [
    "Esto es un Markdown"
   ]
  },
  {
   "cell_type": "code",
   "execution_count": null,
   "id": "063a2d96-54c1-40a2-ba84-169aae4a39c0",
   "metadata": {},
   "outputs": [],
   "source": []
  },
  {
   "cell_type": "code",
   "execution_count": 12,
   "id": "59dec756-31b7-43bc-8ae0-7b7bc010b9b7",
   "metadata": {},
   "outputs": [],
   "source": [
    "##Esto es un comentario"
   ]
  },
  {
   "cell_type": "code",
   "execution_count": null,
   "id": "269d9922-8a93-449d-bc6c-27876d06767a",
   "metadata": {},
   "outputs": [],
   "source": []
  },
  {
   "cell_type": "code",
   "execution_count": 19,
   "id": "3a9e23ee-2a3f-4ab8-9018-41fe46a9f05e",
   "metadata": {},
   "outputs": [
    {
     "name": "stdout",
     "output_type": "stream",
     "text": [
      "<class 'int'>\n"
     ]
    }
   ],
   "source": [
    "Y = 25\n",
    "y = int\n",
    "print (y)"
   ]
  }
 ],
 "metadata": {
  "kernelspec": {
   "display_name": "Python",
   "language": "python",
   "name": "conda-env-python-py"
  },
  "language_info": {
   "codemirror_mode": {
    "name": "ipython",
    "version": 3
   },
   "file_extension": ".py",
   "mimetype": "text/x-python",
   "name": "python",
   "nbconvert_exporter": "python",
   "pygments_lexer": "ipython3",
   "version": "3.6.13"
  }
 },
 "nbformat": 4,
 "nbformat_minor": 5
}
